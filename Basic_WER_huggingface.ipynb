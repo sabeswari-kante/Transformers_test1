{
  "nbformat": 4,
  "nbformat_minor": 0,
  "metadata": {
    "colab": {
      "provenance": []
    },
    "kernelspec": {
      "name": "python3",
      "display_name": "Python 3"
    },
    "language_info": {
      "name": "python"
    }
  },
  "cells": [
    {
      "cell_type": "code",
      "execution_count": 1,
      "metadata": {
        "colab": {
          "base_uri": "https://localhost:8080/"
        },
        "id": "GmG3rOXmPDpb",
        "outputId": "cfbbd0ad-2843-40fc-b3fe-87f89f512778"
      },
      "outputs": [
        {
          "output_type": "stream",
          "name": "stdout",
          "text": [
            "Requirement already satisfied: jiwer in /usr/local/lib/python3.10/dist-packages (3.0.4)\n",
            "Requirement already satisfied: click<9.0.0,>=8.1.3 in /usr/local/lib/python3.10/dist-packages (from jiwer) (8.1.7)\n",
            "Requirement already satisfied: rapidfuzz<4,>=3 in /usr/local/lib/python3.10/dist-packages (from jiwer) (3.9.4)\n",
            "Requirement already satisfied: evaluate in /usr/local/lib/python3.10/dist-packages (0.4.2)\n",
            "Requirement already satisfied: datasets>=2.0.0 in /usr/local/lib/python3.10/dist-packages (from evaluate) (2.20.0)\n",
            "Requirement already satisfied: numpy>=1.17 in /usr/local/lib/python3.10/dist-packages (from evaluate) (1.25.2)\n",
            "Requirement already satisfied: dill in /usr/local/lib/python3.10/dist-packages (from evaluate) (0.3.8)\n",
            "Requirement already satisfied: pandas in /usr/local/lib/python3.10/dist-packages (from evaluate) (2.0.3)\n",
            "Requirement already satisfied: requests>=2.19.0 in /usr/local/lib/python3.10/dist-packages (from evaluate) (2.32.3)\n",
            "Requirement already satisfied: tqdm>=4.62.1 in /usr/local/lib/python3.10/dist-packages (from evaluate) (4.66.4)\n",
            "Requirement already satisfied: xxhash in /usr/local/lib/python3.10/dist-packages (from evaluate) (3.4.1)\n",
            "Requirement already satisfied: multiprocess in /usr/local/lib/python3.10/dist-packages (from evaluate) (0.70.16)\n",
            "Requirement already satisfied: fsspec[http]>=2021.05.0 in /usr/local/lib/python3.10/dist-packages (from evaluate) (2023.6.0)\n",
            "Requirement already satisfied: huggingface-hub>=0.7.0 in /usr/local/lib/python3.10/dist-packages (from evaluate) (0.23.4)\n",
            "Requirement already satisfied: packaging in /usr/local/lib/python3.10/dist-packages (from evaluate) (24.1)\n",
            "Requirement already satisfied: filelock in /usr/local/lib/python3.10/dist-packages (from datasets>=2.0.0->evaluate) (3.15.4)\n",
            "Requirement already satisfied: pyarrow>=15.0.0 in /usr/local/lib/python3.10/dist-packages (from datasets>=2.0.0->evaluate) (16.1.0)\n",
            "Requirement already satisfied: pyarrow-hotfix in /usr/local/lib/python3.10/dist-packages (from datasets>=2.0.0->evaluate) (0.6)\n",
            "Requirement already satisfied: aiohttp in /usr/local/lib/python3.10/dist-packages (from datasets>=2.0.0->evaluate) (3.9.5)\n",
            "Requirement already satisfied: pyyaml>=5.1 in /usr/local/lib/python3.10/dist-packages (from datasets>=2.0.0->evaluate) (6.0.1)\n",
            "Requirement already satisfied: typing-extensions>=3.7.4.3 in /usr/local/lib/python3.10/dist-packages (from huggingface-hub>=0.7.0->evaluate) (4.12.2)\n",
            "Requirement already satisfied: charset-normalizer<4,>=2 in /usr/local/lib/python3.10/dist-packages (from requests>=2.19.0->evaluate) (3.3.2)\n",
            "Requirement already satisfied: idna<4,>=2.5 in /usr/local/lib/python3.10/dist-packages (from requests>=2.19.0->evaluate) (3.7)\n",
            "Requirement already satisfied: urllib3<3,>=1.21.1 in /usr/local/lib/python3.10/dist-packages (from requests>=2.19.0->evaluate) (2.0.7)\n",
            "Requirement already satisfied: certifi>=2017.4.17 in /usr/local/lib/python3.10/dist-packages (from requests>=2.19.0->evaluate) (2024.7.4)\n",
            "Requirement already satisfied: python-dateutil>=2.8.2 in /usr/local/lib/python3.10/dist-packages (from pandas->evaluate) (2.8.2)\n",
            "Requirement already satisfied: pytz>=2020.1 in /usr/local/lib/python3.10/dist-packages (from pandas->evaluate) (2023.4)\n",
            "Requirement already satisfied: tzdata>=2022.1 in /usr/local/lib/python3.10/dist-packages (from pandas->evaluate) (2024.1)\n",
            "Requirement already satisfied: aiosignal>=1.1.2 in /usr/local/lib/python3.10/dist-packages (from aiohttp->datasets>=2.0.0->evaluate) (1.3.1)\n",
            "Requirement already satisfied: attrs>=17.3.0 in /usr/local/lib/python3.10/dist-packages (from aiohttp->datasets>=2.0.0->evaluate) (23.2.0)\n",
            "Requirement already satisfied: frozenlist>=1.1.1 in /usr/local/lib/python3.10/dist-packages (from aiohttp->datasets>=2.0.0->evaluate) (1.4.1)\n",
            "Requirement already satisfied: multidict<7.0,>=4.5 in /usr/local/lib/python3.10/dist-packages (from aiohttp->datasets>=2.0.0->evaluate) (6.0.5)\n",
            "Requirement already satisfied: yarl<2.0,>=1.0 in /usr/local/lib/python3.10/dist-packages (from aiohttp->datasets>=2.0.0->evaluate) (1.9.4)\n",
            "Requirement already satisfied: async-timeout<5.0,>=4.0 in /usr/local/lib/python3.10/dist-packages (from aiohttp->datasets>=2.0.0->evaluate) (4.0.3)\n",
            "Requirement already satisfied: six>=1.5 in /usr/local/lib/python3.10/dist-packages (from python-dateutil>=2.8.2->pandas->evaluate) (1.16.0)\n"
          ]
        }
      ],
      "source": [
        "!pip install jiwer\n",
        "!pip install evaluate"
      ]
    },
    {
      "cell_type": "markdown",
      "source": [
        "# syntax\n",
        "\n",
        "from evaluate import load\n",
        "\n",
        "wer = load('wer')\n",
        "\n",
        "wer_score =wer.compute(\n",
        "  predictions=Predictions,\n",
        "    references=References\n",
        "     )"
      ],
      "metadata": {
        "id": "1mRNx6oTSQRd"
      }
    },
    {
      "cell_type": "markdown",
      "source": [
        "**Examples**"
      ],
      "metadata": {
        "id": "g-8QjuR4Shd7"
      }
    },
    {
      "cell_type": "code",
      "source": [
        "from evaluate import load\n",
        "wer= load('wer')"
      ],
      "metadata": {
        "id": "JxghJdREPmUo"
      },
      "execution_count": 2,
      "outputs": []
    },
    {
      "cell_type": "code",
      "source": [
        "p1=[\"Hello world\"]\n",
        "r1=['hello world']\n",
        "wer_score = wer.compute(predictions=p1, references=r1)\n",
        "print(wer_score)"
      ],
      "metadata": {
        "colab": {
          "base_uri": "https://localhost:8080/"
        },
        "id": "FkQqpsycPmNe",
        "outputId": "8daf6e0e-f939-49b1-e626-847d5fa97fd9"
      },
      "execution_count": 4,
      "outputs": [
        {
          "output_type": "stream",
          "name": "stdout",
          "text": [
            "0.5\n"
          ]
        }
      ]
    },
    {
      "cell_type": "code",
      "source": [
        "p1= [\"Let's meet for coffee tomorrow at 10 AM.\"]\n",
        "r1= [\"Let's meet for coffee at 10 AM.\"]\n",
        "wer_score = wer.compute(predictions= p1,references = r1)\n",
        "print(wer_score)"
      ],
      "metadata": {
        "colab": {
          "base_uri": "https://localhost:8080/"
        },
        "id": "u2XV8ZE7TsDH",
        "outputId": "255b74ae-6fff-4ed2-bd38-cd31997489a5"
      },
      "execution_count": 5,
      "outputs": [
        {
          "output_type": "stream",
          "name": "stdout",
          "text": [
            "0.14285714285714285\n"
          ]
        }
      ]
    },
    {
      "cell_type": "markdown",
      "source": [
        "# **1. High WER**"
      ],
      "metadata": {
        "id": "E0_fyhEPUCoA"
      }
    },
    {
      "cell_type": "code",
      "source": [
        "p1= [\"Let's meet for coffee tomorrow at 10 AM.\"]\n",
        "r1= [\"Let's for coffee morning at 11 o'clock\"]\n",
        "wer_score = wer.compute(predictions= p1,references = r1)\n",
        "print(wer_score)"
      ],
      "metadata": {
        "colab": {
          "base_uri": "https://localhost:8080/"
        },
        "id": "Pa3Rf26-UFEa",
        "outputId": "ed7f6eea-712f-4ba7-ef73-e62e389a619e"
      },
      "execution_count": 6,
      "outputs": [
        {
          "output_type": "stream",
          "name": "stdout",
          "text": [
            "0.5714285714285714\n"
          ]
        }
      ]
    },
    {
      "cell_type": "markdown",
      "source": [
        "The above one is with 3 Errors: Substitutions-'meet'->'for\n",
        "'tomorrow'->'morning'\n",
        "'am'->\"o'clock\""
      ],
      "metadata": {
        "id": "AMA1eiiqUXss"
      }
    },
    {
      "cell_type": "code",
      "source": [
        "p1= [\"The quick brown fox jumps over the lazy dog.\"]\n",
        "r1=  [\"The quick brown dog jumps on the floor\" ]\n",
        "score = wer.compute(predictions = p1, references = r1)\n",
        "print(score)"
      ],
      "metadata": {
        "colab": {
          "base_uri": "https://localhost:8080/"
        },
        "id": "udwkBm6gU5vZ",
        "outputId": "4d6d9878-5d70-40bc-faa9-2f33f62a2244"
      },
      "execution_count": 7,
      "outputs": [
        {
          "output_type": "stream",
          "name": "stdout",
          "text": [
            "0.5\n"
          ]
        }
      ]
    },
    {
      "cell_type": "markdown",
      "source": [
        "4 Errors: Substitutions - \"fox\" -> \"dog\", \"over\" -> \"on\", Insertion - \"the\""
      ],
      "metadata": {
        "id": "V-WcIsEVVLxT"
      }
    },
    {
      "cell_type": "markdown",
      "source": [
        "# **2. Low WER**"
      ],
      "metadata": {
        "id": "xgzBW00NVSzh"
      }
    },
    {
      "cell_type": "code",
      "source": [
        "pred_text = \"What is the weather like today?\"\n",
        "ref_txt= \"What's the weather like today?\"\n",
        "score = wer.compute(predictions = [pred_text], references = [ref_txt])\n",
        "print(score)"
      ],
      "metadata": {
        "colab": {
          "base_uri": "https://localhost:8080/"
        },
        "id": "YEiAv7hiU5sa",
        "outputId": "073d602f-b7d5-4aa8-fdf4-f084ff0ce81d"
      },
      "execution_count": 8,
      "outputs": [
        {
          "output_type": "stream",
          "name": "stdout",
          "text": [
            "0.4\n"
          ]
        }
      ]
    },
    {
      "cell_type": "markdown",
      "source": [
        "1 Error: Substitution - \"is\" -> \"s\""
      ],
      "metadata": {
        "id": "jMa0OckAVjZZ"
      }
    },
    {
      "cell_type": "code",
      "source": [
        "pred_txt = \"I'm happy to help!\"\n",
        "ref_txt=  \"I'm glad to assist you!\"\n",
        "score = wer. compute(predictions = [pred_txt], references = [ref_txt])\n",
        "print(score)"
      ],
      "metadata": {
        "colab": {
          "base_uri": "https://localhost:8080/"
        },
        "id": "zR_JPpttU5hz",
        "outputId": "efda406a-83f4-4da4-9942-1a31b3d3ef73"
      },
      "execution_count": 9,
      "outputs": [
        {
          "output_type": "stream",
          "name": "stdout",
          "text": [
            "0.6\n"
          ]
        }
      ]
    },
    {
      "cell_type": "markdown",
      "source": [
        "0 Errors: Synonyms"
      ],
      "metadata": {
        "id": "skDcP-yKVzIF"
      }
    },
    {
      "cell_type": "markdown",
      "source": [
        "# **Accents/Dialects (Potential Errors)**"
      ],
      "metadata": {
        "id": "kk7ZZFRYV8gq"
      }
    },
    {
      "cell_type": "code",
      "source": [
        "pred_txt = \"Y'all come back now, ya hear?\"\n",
        "ref_txt =  \"You all come back now, you hear?\"\n",
        "score= wer.compute(predictions= [pred_txt], references = [ref_txt])\n",
        "print(score)"
      ],
      "metadata": {
        "colab": {
          "base_uri": "https://localhost:8080/"
        },
        "id": "Zriasi81U5d9",
        "outputId": "04fb2fa8-f7b2-4a4e-dd6b-8eef46f87f0f"
      },
      "execution_count": 10,
      "outputs": [
        {
          "output_type": "stream",
          "name": "stdout",
          "text": [
            "0.42857142857142855\n"
          ]
        }
      ]
    },
    {
      "cell_type": "code",
      "source": [
        "pred_text = \"Wee see you aboot then!\"\n",
        "ref_txt = \"We'll see you around then!\"\n",
        "score = wer. compute(predictions= [pred_text], references = [ref_txt])\n",
        "print(score)"
      ],
      "metadata": {
        "colab": {
          "base_uri": "https://localhost:8080/"
        },
        "id": "BUTQegCWU5b4",
        "outputId": "95049c06-7223-4a66-e975-9f71bc3314b4"
      },
      "execution_count": 11,
      "outputs": [
        {
          "output_type": "stream",
          "name": "stdout",
          "text": [
            "0.4\n"
          ]
        }
      ]
    },
    {
      "cell_type": "markdown",
      "source": [
        "# **3. Numbers (Potential for Errors)**"
      ],
      "metadata": {
        "id": "KWQ0B_kvWiMG"
      }
    },
    {
      "cell_type": "code",
      "source": [
        "p1= \"There are 123 people in this room.\"\n",
        "r1=  \"There are one hundred twenty three people in this room.\"\n",
        "score = wer.compute(predictions = [p1], references = [r1])\n",
        "print(score)"
      ],
      "metadata": {
        "colab": {
          "base_uri": "https://localhost:8080/"
        },
        "id": "hZAh7LTBU5YL",
        "outputId": "fdad87be-fad6-4e8f-fe82-3d6a59e5d065"
      },
      "execution_count": 12,
      "outputs": [
        {
          "output_type": "stream",
          "name": "stdout",
          "text": [
            "0.4\n"
          ]
        }
      ]
    },
    {
      "cell_type": "code",
      "source": [
        "P1 =  \"The meeting starts at 2:15 PM.\"\n",
        "R1= \"The meeting starts at two fifteen in the afternoon.\"\n",
        "score = wer.compute(predictions = [P1], references = [R1])\n",
        "print(score)"
      ],
      "metadata": {
        "colab": {
          "base_uri": "https://localhost:8080/"
        },
        "id": "jNtUCwXcU5WS",
        "outputId": "b06c65b3-00b6-4a98-bfd6-e12c13599f7b"
      },
      "execution_count": 13,
      "outputs": [
        {
          "output_type": "stream",
          "name": "stdout",
          "text": [
            "0.5555555555555556\n"
          ]
        }
      ]
    },
    {
      "cell_type": "markdown",
      "source": [
        "# **4. Proper Nouns (0% WER)**"
      ],
      "metadata": {
        "id": "Kykz96jGW9gI"
      }
    },
    {
      "cell_type": "code",
      "source": [
        "p1 =  \"The Eiffel Tower is a landmark in Paris.\"\n",
        "r1= \"The Eiffel Tower is a landmark in Paris.\"\n",
        "score = wer. compute(predictions = [p1], references = [r1])\n",
        "print(score)"
      ],
      "metadata": {
        "colab": {
          "base_uri": "https://localhost:8080/"
        },
        "id": "T54ElTi7U5OM",
        "outputId": "350c7112-bfac-4427-e8de-0e018062da7c"
      },
      "execution_count": 14,
      "outputs": [
        {
          "output_type": "stream",
          "name": "stdout",
          "text": [
            "0.0\n"
          ]
        }
      ]
    },
    {
      "cell_type": "code",
      "source": [
        "p1=  \"Dr. Smith is performing surgery today.\"\n",
        "r1=  \"Dr. Smith is performing surgery today.\"\n",
        "score = wer.compute(predictions = [p1], references = [r1])\n",
        "print(score)"
      ],
      "metadata": {
        "colab": {
          "base_uri": "https://localhost:8080/"
        },
        "id": "R_HAf1EgXCZU",
        "outputId": "123c9195-9b58-4d13-dd9f-4acf97f4d7cf"
      },
      "execution_count": 15,
      "outputs": [
        {
          "output_type": "stream",
          "name": "stdout",
          "text": [
            "0.0\n"
          ]
        }
      ]
    },
    {
      "cell_type": "markdown",
      "source": [
        "# **5. Filler Words (Low Impact on WER)**"
      ],
      "metadata": {
        "id": "OTAf8DBEXWog"
      }
    },
    {
      "cell_type": "code",
      "source": [
        "p1 = \"Um, can you tell me the time, please?\"\n",
        "r1=  \"Can you tell me the time, please?\"\n",
        "score = wer.compute(predictions = [p1], references = [r1])\n",
        "print(score)"
      ],
      "metadata": {
        "colab": {
          "base_uri": "https://localhost:8080/"
        },
        "id": "o2bqG79gXCWa",
        "outputId": "7f83a801-41a1-4e5e-a724-df680bfbe893"
      },
      "execution_count": 16,
      "outputs": [
        {
          "output_type": "stream",
          "name": "stdout",
          "text": [
            "0.2857142857142857\n"
          ]
        }
      ]
    },
    {
      "cell_type": "code",
      "source": [
        "p1 =  \"I, uh, think it's around 3 PM.\"\n",
        "r1=  \"I think it's around 3 PM.\"\n",
        "score = wer.compute(predictions = [p1], references = [r1])\n",
        "print(score)"
      ],
      "metadata": {
        "colab": {
          "base_uri": "https://localhost:8080/"
        },
        "id": "q6GmWPAqXCSR",
        "outputId": "5bb46181-97d3-4404-8e64-4a3543af65c9"
      },
      "execution_count": 17,
      "outputs": [
        {
          "output_type": "stream",
          "name": "stdout",
          "text": [
            "0.3333333333333333\n"
          ]
        }
      ]
    },
    {
      "cell_type": "markdown",
      "source": [
        "# **6. Ambiguity (Potential Errors)**"
      ],
      "metadata": {
        "id": "BVpC5mu2X1sL"
      }
    },
    {
      "cell_type": "code",
      "source": [
        "p1= \"I saw a group perform last night.\"\n",
        "r1 = \"I saw a band play last night.\"\n",
        "score = wer.compute(predictions = [p1], references = [r1])\n",
        "print(score)"
      ],
      "metadata": {
        "colab": {
          "base_uri": "https://localhost:8080/"
        },
        "id": "Zlu7XKr0XCQf",
        "outputId": "eb6648d3-3853-4566-fa65-ae1c041988fb"
      },
      "execution_count": 18,
      "outputs": [
        {
          "output_type": "stream",
          "name": "stdout",
          "text": [
            "0.2857142857142857\n"
          ]
        }
      ]
    },
    {
      "cell_type": "code",
      "source": [
        "p1 = \"The meeting was uninteresting.\"\n",
        "r1 =  \"The meeting was a bore.\"\n",
        "score = wer.compute(predictions = [p1], references = [r1])\n",
        "print(score)"
      ],
      "metadata": {
        "colab": {
          "base_uri": "https://localhost:8080/"
        },
        "id": "MZyN4YhZX_1E",
        "outputId": "e65486ca-029a-4d93-b01c-0cdcacc978a1"
      },
      "execution_count": 19,
      "outputs": [
        {
          "output_type": "stream",
          "name": "stdout",
          "text": [
            "0.4\n"
          ]
        }
      ]
    },
    {
      "cell_type": "code",
      "source": [
        "# Perfect match between prediction and reference:\n",
        "\n",
        "from evaluate import load\n",
        "wer = load(\"wer\")\n",
        "predictions = [\"hello world\", \"good night moon\"]\n",
        "references = [\"hello world\", \"good night moon\"]\n",
        "wer_score = wer.compute(predictions=predictions, references=references)\n",
        "print(wer_score)\n"
      ],
      "metadata": {
        "colab": {
          "base_uri": "https://localhost:8080/"
        },
        "id": "gwyemlrSPKuV",
        "outputId": "59c72268-fb0a-4fd8-c4db-67f0db096ac3"
      },
      "execution_count": 20,
      "outputs": [
        {
          "output_type": "stream",
          "name": "stdout",
          "text": [
            "0.0\n"
          ]
        }
      ]
    },
    {
      "cell_type": "code",
      "source": [
        "# Partial match between prediction and reference:\n",
        "\n",
        "from evaluate import load\n",
        "wer = load(\"wer\")\n",
        "predictions = [\"this is the prediction\", \"there is an other sample\"]\n",
        "references = [\"this is the reference\", \"there is another one\"]\n",
        "wer_score = wer.compute(predictions=predictions, references=references)\n",
        "print(wer_score)"
      ],
      "metadata": {
        "colab": {
          "base_uri": "https://localhost:8080/"
        },
        "id": "RT-qj31rPOQb",
        "outputId": "9c2f88a4-566d-4c7a-ca41-754d027fb775"
      },
      "execution_count": 21,
      "outputs": [
        {
          "output_type": "stream",
          "name": "stdout",
          "text": [
            "0.5\n"
          ]
        }
      ]
    },
    {
      "cell_type": "code",
      "source": [
        "# No match between prediction and reference:\n",
        "\n",
        "from evaluate import load\n",
        "wer = load(\"wer\")\n",
        "predictions = [\"hello world\", \"good night moon\"]\n",
        "references = [\"hi everyone\", \"have a great day\"]\n",
        "wer_score = wer.compute(predictions=predictions, references=references)\n",
        "print(wer_score)"
      ],
      "metadata": {
        "colab": {
          "base_uri": "https://localhost:8080/"
        },
        "id": "_DKl8YTBPQPI",
        "outputId": "6bfa9781-037d-4abd-e2e9-68302ab8acda"
      },
      "execution_count": 22,
      "outputs": [
        {
          "output_type": "stream",
          "name": "stdout",
          "text": [
            "1.0\n"
          ]
        }
      ]
    },
    {
      "cell_type": "markdown",
      "source": [
        "# **All in all:**\n",
        "- WER is a valuable metric for evaluating NLP tasks like speech recognition, but it's important to consider conetxt and the specific application.\n",
        "\n",
        "- High WER may not always reflect poor"
      ],
      "metadata": {
        "id": "0pYii2GbV643"
      }
    }
  ]
}